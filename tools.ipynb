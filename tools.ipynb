{
 "cells": [
  {
   "cell_type": "code",
   "execution_count": 7,
   "metadata": {},
   "outputs": [
    {
     "name": "stderr",
     "output_type": "stream",
     "text": [
      "100%|██████████| 8691/8691 [03:48<00:00, 38.09it/s]"
     ]
    },
    {
     "name": "stdout",
     "output_type": "stream",
     "text": [
      "count: 75524790\n"
     ]
    },
    {
     "name": "stderr",
     "output_type": "stream",
     "text": [
      "\n"
     ]
    }
   ],
   "source": [
    "# importing the library\n",
    "import os\n",
    "from tqdm import tqdm\n",
    "\n",
    "# giving directory name\n",
    "dir_images = 'train/images'\n",
    "dir_labels = 'train/labels'\n",
    " \n",
    "count = 0\n",
    "# iterating over all files\n",
    "for image in tqdm(os.listdir(dir_images)):\n",
    "    for label in os.listdir(dir_labels):\n",
    "        if os.path.splitext(image)[0] == os.path.splitext(label)[0]:\n",
    "            count += 1\n",
    "\n",
    "print(\"count:\", count)    "
   ]
  },
  {
   "cell_type": "markdown",
   "metadata": {},
   "source": [
    "#### Plot an image with its true bounding boxes"
   ]
  },
  {
   "cell_type": "code",
   "execution_count": 11,
   "metadata": {},
   "outputs": [
    {
     "name": "stdout",
     "output_type": "stream",
     "text": [
      "Input:new/2012-09-11_15_16_58_jpg.rf.61d961a86c9a16694403dfcb72cd450c.txt\n",
      "Output:new/result/2012-09-11_15_16_58_jpg.rf.61d961a86c9a16694403dfcb72cd450c.jpg\n"
     ]
    }
   ],
   "source": [
    "import os\n",
    "from os import walk, getcwd\n",
    "import numpy as np\n",
    "import cv2\n",
    "\n",
    "def convert(size,x,y,w,h):\n",
    "    box = np.zeros(4)\n",
    "    dw = 1./size[0]\n",
    "    dh = 1./size[1]\n",
    "    x = x/dw\n",
    "    w = w/dw\n",
    "    y = y/dh\n",
    "    h = h/dh\n",
    "    box[0] = x-(w/2.0)\n",
    "    box[1] = x+(w/2.0)\n",
    "    box[2] = y-(h/2.0)\n",
    "    box[3] = y+(h/2.0)\n",
    "\n",
    "    return (box)\n",
    "    \n",
    "\"\"\"-------------------------------------------------------------------\"\"\" \n",
    "\n",
    "\"\"\" Configure Paths \"\"\"   \n",
    "mypath = \"plot_true_labels/\"\n",
    "outpath = \"plot_true_labels/result/\"\n",
    "\n",
    "wd = getcwd()\n",
    "\n",
    "\"\"\" Get yolo txt file list \"\"\"\n",
    "txt_list = []\n",
    "for file in os.listdir(mypath):\n",
    "    if file.endswith(\".txt\"):\n",
    "        txt_list.append(file)\n",
    "    \n",
    "\n",
    "\"\"\" Process \"\"\"\n",
    "for txt_name in txt_list:\n",
    "    img_filename = txt_name.rstrip(\".txt\") + \".jpg\"\n",
    "    img_path = mypath + txt_name.rstrip(\".txt\") + \".jpg\"\n",
    "    img = cv2.imread(img_path)\n",
    "\n",
    "    \"\"\" Open input text files \"\"\"\n",
    "    txt_path = mypath + txt_name\n",
    "    print(\"Input:\" + txt_path)\n",
    "    txt_file = open(txt_path, \"r\")\n",
    "    \n",
    "    img_outpath = outpath + img_filename\n",
    "    print(\"Output:\" + img_outpath)\n",
    "\n",
    "    \"\"\" Convert YOLO format to get xmin,ymin,xmax,ymax \"\"\" \n",
    "    lines = txt_file.read().splitlines()  \n",
    "    for idx, line in enumerate(lines):\n",
    "        value = line.split()\n",
    "        x=y=w=h=cls= None\n",
    "        cls = value[0]\n",
    "        x = float(value[1])\n",
    "        y = float(value[2])\n",
    "        w = float(value[3])\n",
    "        h = float(value[4])\n",
    "\t\n",
    "        img_h, img_w = img.shape[:2]\n",
    "        bb = convert((img_w, img_h), x,y,w,h)\n",
    "        cv2.rectangle(img, (int(round(bb[0])),int(round(bb[2]))),(int(round(bb[1])),int(round(bb[3]))),(0,0,255),1)\n",
    "        #uncomment to show label index\n",
    "        cv2.putText(img, cls, (int(round(bb[0])),int(round(bb[2]))-10), cv2.FONT_HERSHEY_SIMPLEX, 1, (255,255,255),2,cv2.LINE_AA)\n",
    "        cv2.imwrite(img_outpath, img)"
   ]
  }
 ],
 "metadata": {
  "interpreter": {
   "hash": "03eaa2ea944cf99881aa5fab8d165e2f17a4015119a862d5d367392066f26a1e"
  },
  "kernelspec": {
   "display_name": "Python 3.9.9 64-bit",
   "language": "python",
   "name": "python3"
  },
  "language_info": {
   "codemirror_mode": {
    "name": "ipython",
    "version": 3
   },
   "file_extension": ".py",
   "mimetype": "text/x-python",
   "name": "python",
   "nbconvert_exporter": "python",
   "pygments_lexer": "ipython3",
   "version": "3.9.9"
  },
  "orig_nbformat": 4
 },
 "nbformat": 4,
 "nbformat_minor": 2
}
